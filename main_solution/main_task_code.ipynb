{
 "cells": [
  {
   "cell_type": "code",
   "execution_count": 1,
   "id": "081805d8-8f0e-4f1c-9d7e-ccaee50efbb3",
   "metadata": {},
   "outputs": [],
   "source": [
    "from __future__ import division, print_function\n",
    "\n",
    "import csv\n",
    "import warnings\n",
    "import numpy as np\n",
    "import pandas as pd\n",
    "import xgboost as xgb\n",
    "import seaborn as sns\n",
    "import matplotlib.pyplot as plt\n",
    "plt.rcParams[\"font.family\"] = \"Times New Roman\""
   ]
  },
  {
   "cell_type": "code",
   "execution_count": 2,
   "id": "07a7c0bc-d978-4950-94fd-1c37e8d7ccc6",
   "metadata": {},
   "outputs": [],
   "source": [
    "from xgboost import plot_importance, XGBClassifier\n",
    "from sklearn.model_selection import train_test_split\n",
    "from sklearn.ensemble import RandomForestClassifier, AdaBoostClassifier\n",
    "from sklearn.metrics import accuracy_score, mean_absolute_error\n",
    "from sklearn.feature_selection import SelectFromModel"
   ]
  },
  {
   "cell_type": "code",
   "execution_count": 3,
   "id": "d3d001cc-b382-47a8-95c4-f5a58d892954",
   "metadata": {},
   "outputs": [],
   "source": [
    "warnings.filterwarnings(\"ignore\")"
   ]
  },
  {
   "cell_type": "markdown",
   "id": "62902e01-f2ad-4eae-99d4-444512bcaaa2",
   "metadata": {},
   "source": [
    "### Read the data from the task data file."
   ]
  },
  {
   "cell_type": "code",
   "execution_count": 4,
   "id": "2e65d556-216b-467e-bd5e-59433a0af7cb",
   "metadata": {},
   "outputs": [],
   "source": [
    "## https://pandas.pydata.org/\n",
    "def read_data_file(filename):\n",
    "    data = pd.read_csv(filename)\n",
    "    return data\n",
    "dataset = read_data_file('./task_data.csv')"
   ]
  },
  {
   "cell_type": "markdown",
   "id": "231abb7b-7296-4da6-b797-317d8dad6c28",
   "metadata": {},
   "source": [
    "### Check the data properties i.e. Identifying the important features within the provided data\n",
    "### Benifits :\n",
    "#### 1.) help to concentrate on important features thus helping in building the model\n",
    "#### 2.) Get rid of features which are irrelavent and will not contribute to the model performance."
   ]
  },
  {
   "cell_type": "code",
   "execution_count": 5,
   "id": "50930128-6feb-4977-8e03-f4ca2d27e7e2",
   "metadata": {},
   "outputs": [
    {
     "name": "stdout",
     "output_type": "stream",
     "text": [
      "<class 'pandas.core.frame.DataFrame'>\n",
      "RangeIndex: 400 entries, 0 to 399\n",
      "Data columns (total 12 columns):\n",
      " #   Column        Non-Null Count  Dtype  \n",
      "---  ------        --------------  -----  \n",
      " 0   sample index  400 non-null    object \n",
      " 1   class_label   400 non-null    float64\n",
      " 2   sensor0       400 non-null    float64\n",
      " 3   sensor1       400 non-null    float64\n",
      " 4   sensor2       400 non-null    float64\n",
      " 5   sensor3       400 non-null    float64\n",
      " 6   sensor4       400 non-null    float64\n",
      " 7   sensor5       400 non-null    float64\n",
      " 8   sensor6       400 non-null    float64\n",
      " 9   sensor7       400 non-null    float64\n",
      " 10  sensor8       400 non-null    float64\n",
      " 11  sensor9       400 non-null    float64\n",
      "dtypes: float64(11), object(1)\n",
      "memory usage: 37.6+ KB\n",
      "None\n",
      "       class_label     sensor0     sensor1     sensor2     sensor3  \\\n",
      "count   400.000000  400.000000  400.000000  400.000000  400.000000   \n",
      "mean      0.000000    0.523661    0.509223    0.481238    0.509752   \n",
      "std       1.001252    0.268194    0.276878    0.287584    0.297712   \n",
      "min      -1.000000    0.007775    0.003865    0.004473    0.001466   \n",
      "25%      -1.000000    0.299792    0.283004    0.235544    0.262697   \n",
      "50%       0.000000    0.534906    0.507583    0.460241    0.510066   \n",
      "75%       1.000000    0.751887    0.727843    0.734937    0.768975   \n",
      "max       1.000000    0.999476    0.998680    0.992963    0.995119   \n",
      "\n",
      "          sensor4     sensor5     sensor6     sensor7     sensor8     sensor9  \n",
      "count  400.000000  400.000000  400.000000  400.000000  400.000000  400.000000  \n",
      "mean     0.497875    0.501065    0.490480    0.482372    0.482822    0.541933  \n",
      "std      0.288208    0.287634    0.289954    0.282714    0.296180    0.272490  \n",
      "min      0.000250    0.000425    0.000173    0.003322    0.003165    0.000452  \n",
      "25%      0.249369    0.269430    0.226687    0.242848    0.213626    0.321264  \n",
      "50%      0.497842    0.497108    0.477341    0.463438    0.462251    0.578389  \n",
      "75%      0.743401    0.738854    0.735304    0.732483    0.740542    0.768990  \n",
      "max      0.999412    0.997367    0.997141    0.998230    0.996098    0.999465  \n"
     ]
    }
   ],
   "source": [
    "print(dataset.info())\n",
    "print(dataset.describe())"
   ]
  },
  {
   "cell_type": "markdown",
   "id": "37aa4811-30c9-4b65-9767-96ed4381353d",
   "metadata": {},
   "source": [
    "### Split data into training features and labels"
   ]
  },
  {
   "cell_type": "code",
   "execution_count": 6,
   "id": "a6732c77-1f0c-4b62-b4f7-07fd9b15804d",
   "metadata": {},
   "outputs": [],
   "source": [
    "## Extracting Labels from the data\n",
    "Y = dataset['class_label']"
   ]
  },
  {
   "cell_type": "code",
   "execution_count": 7,
   "id": "e0b6f26d-c205-4a49-8d18-0ada131cc498",
   "metadata": {},
   "outputs": [],
   "source": [
    "## Extracting Features from the data\n",
    "dataset.drop(['sample index','class_label'],axis=1,inplace=True)\n",
    "X = dataset"
   ]
  },
  {
   "cell_type": "markdown",
   "id": "edf33148-b90b-4ead-b241-77c6192f16be",
   "metadata": {},
   "source": [
    "### Creating a Correlation Matrix to check out the correlation between the sensors in the dataset"
   ]
  },
  {
   "cell_type": "code",
   "execution_count": 8,
   "id": "51509e22-d63f-4aa0-b6f2-6210bdaac545",
   "metadata": {},
   "outputs": [],
   "source": [
    "## https://pandas.pydata.org/pandas-docs/stable/reference/api/pandas.DataFrame.corr.html\n",
    "corr_matrix = dataset.corr()"
   ]
  },
  {
   "cell_type": "markdown",
   "id": "c22b483c-404a-4357-b33b-b63c8e2dddc2",
   "metadata": {},
   "source": [
    "#### Heatmap of the correlation matrix"
   ]
  },
  {
   "cell_type": "code",
   "execution_count": 9,
   "id": "4cb14ef9-ad5d-4227-aa09-5e5a72e0bcb9",
   "metadata": {},
   "outputs": [
    {
     "data": {
      "image/png": "[encoded data removed]",
      "text/plain": [
       "<Figure size 432x288 with 2 Axes>"
      ]
     },
     "metadata": {
      "needs_background": "light"
     },
     "output_type": "display_data"
    }
   ],
   "source": [
    "## https://seaborn.pydata.org/generated/seaborn.heatmap.html\n",
    "sns.heatmap(corr_matrix, cmap='Blues', annot=True)\n",
    "plt.show()\n",
    "plt.close()"
   ]
  },
  {
   "cell_type": "markdown",
   "id": "adff74f9-ff8e-4402-9806-f0bc089442fa",
   "metadata": {},
   "source": [
    "## split data into train and test dataset"
   ]
  },
  {
   "cell_type": "code",
   "execution_count": 10,
   "id": "ae475e5f-9477-45f1-8e93-34e94720a563",
   "metadata": {},
   "outputs": [],
   "source": [
    "## https://scikit-learn.org/stable/modules/generated/sklearn.model_selection.train_test_split.html\n",
    "X_train, X_test, y_train, y_test = train_test_split(X, Y, test_size=0.2)"
   ]
  },
  {
   "cell_type": "markdown",
   "id": "b70bbf3b-39bb-4112-9bf7-08d28b8902a4",
   "metadata": {},
   "source": [
    "### Defining a model to rank the sensors according to their importance/predictive power with respect to the class labels of the samples.\n",
    "### Testing the Accuracy and Efficiency of model"
   ]
  },
  {
   "cell_type": "code",
   "execution_count": 11,
   "id": "a41eab64-15e9-404f-9582-06b02d05b626",
   "metadata": {},
   "outputs": [],
   "source": [
    "## https://www.kaggle.com/dansbecker/xgboost\n",
    "## https://towardsdatascience.com/a-beginners-guide-to-xgboost-87f5d4c30ed7\n",
    "## https://xgboost.readthedocs.io/en/latest/python/python_api.html#module-xgboost.sklearn"
   ]
  },
  {
   "cell_type": "markdown",
   "id": "85647a1d-4fe9-42af-952f-0104505aba50",
   "metadata": {},
   "source": [
    "### XGBoost Classifier Model"
   ]
  },
  {
   "cell_type": "code",
   "execution_count": 12,
   "id": "e18d9612-49eb-49e3-966a-7110652e8c07",
   "metadata": {},
   "outputs": [],
   "source": [
    "## instantiate model\n",
    "model = XGBClassifier(n_estimators=300, learning_rate=0.1)"
   ]
  },
  {
   "cell_type": "code",
   "execution_count": 13,
   "id": "6fc22a68-e025-4e6f-bf4f-bada34ec4b50",
   "metadata": {},
   "outputs": [
    {
     "name": "stdout",
     "output_type": "stream",
     "text": [
      "[0]\tvalidation_0-error:0.01875\tvalidation_0-logloss:0.60808\tvalidation_1-error:0.05000\tvalidation_1-logloss:0.61301\n",
      "[1]\tvalidation_0-error:0.01250\tvalidation_0-logloss:0.53662\tvalidation_1-error:0.06250\tvalidation_1-logloss:0.54703\n",
      "[2]\tvalidation_0-error:0.00937\tvalidation_0-logloss:0.47741\tvalidation_1-error:0.06250\tvalidation_1-logloss:0.49502\n",
      "[3]\tvalidation_0-error:0.00937\tvalidation_0-logloss:0.42701\tvalidation_1-error:0.06250\tvalidation_1-logloss:0.44998\n",
      "[4]\tvalidation_0-error:0.00937\tvalidation_0-logloss:0.38263\tvalidation_1-error:0.06250\tvalidation_1-logloss:0.40967\n",
      "[5]\tvalidation_0-error:0.00625\tvalidation_0-logloss:0.34422\tvalidation_1-error:0.06250\tvalidation_1-logloss:0.37597\n",
      "[6]\tvalidation_0-error:0.00937\tvalidation_0-logloss:0.31112\tvalidation_1-error:0.06250\tvalidation_1-logloss:0.34479\n",
      "[7]\tvalidation_0-error:0.00937\tvalidation_0-logloss:0.28213\tvalidation_1-error:0.06250\tvalidation_1-logloss:0.31863\n",
      "[8]\tvalidation_0-error:0.00937\tvalidation_0-logloss:0.25662\tvalidation_1-error:0.05000\tvalidation_1-logloss:0.29497\n",
      "[9]\tvalidation_0-error:0.00937\tvalidation_0-logloss:0.23425\tvalidation_1-error:0.05000\tvalidation_1-logloss:0.27471\n",
      "[10]\tvalidation_0-error:0.00937\tvalidation_0-logloss:0.21366\tvalidation_1-error:0.05000\tvalidation_1-logloss:0.25819\n",
      "[11]\tvalidation_0-error:0.00937\tvalidation_0-logloss:0.19537\tvalidation_1-error:0.05000\tvalidation_1-logloss:0.24389\n",
      "[12]\tvalidation_0-error:0.00937\tvalidation_0-logloss:0.17866\tvalidation_1-error:0.05000\tvalidation_1-logloss:0.22806\n",
      "[13]\tvalidation_0-error:0.00937\tvalidation_0-logloss:0.16390\tvalidation_1-error:0.05000\tvalidation_1-logloss:0.21410\n",
      "[14]\tvalidation_0-error:0.00937\tvalidation_0-logloss:0.14968\tvalidation_1-error:0.05000\tvalidation_1-logloss:0.19906\n",
      "[15]\tvalidation_0-error:0.00937\tvalidation_0-logloss:0.13760\tvalidation_1-error:0.05000\tvalidation_1-logloss:0.18682\n",
      "[16]\tvalidation_0-error:0.00313\tvalidation_0-logloss:0.12631\tvalidation_1-error:0.05000\tvalidation_1-logloss:0.17328\n",
      "[17]\tvalidation_0-error:0.00313\tvalidation_0-logloss:0.11613\tvalidation_1-error:0.05000\tvalidation_1-logloss:0.16143\n",
      "[18]\tvalidation_0-error:0.00000\tvalidation_0-logloss:0.10669\tvalidation_1-error:0.03750\tvalidation_1-logloss:0.14981\n",
      "[19]\tvalidation_0-error:0.00000\tvalidation_0-logloss:0.09855\tvalidation_1-error:0.03750\tvalidation_1-logloss:0.14051\n",
      "[20]\tvalidation_0-error:0.00000\tvalidation_0-logloss:0.09141\tvalidation_1-error:0.03750\tvalidation_1-logloss:0.13483\n",
      "[21]\tvalidation_0-error:0.00000\tvalidation_0-logloss:0.08468\tvalidation_1-error:0.03750\tvalidation_1-logloss:0.12693\n",
      "[22]\tvalidation_0-error:0.00000\tvalidation_0-logloss:0.07871\tvalidation_1-error:0.03750\tvalidation_1-logloss:0.11990\n",
      "[23]\tvalidation_0-error:0.00000\tvalidation_0-logloss:0.07307\tvalidation_1-error:0.03750\tvalidation_1-logloss:0.11453\n",
      "[24]\tvalidation_0-error:0.00000\tvalidation_0-logloss:0.06869\tvalidation_1-error:0.03750\tvalidation_1-logloss:0.11098\n",
      "[25]\tvalidation_0-error:0.00000\tvalidation_0-logloss:0.06454\tvalidation_1-error:0.03750\tvalidation_1-logloss:0.10701\n",
      "[26]\tvalidation_0-error:0.00000\tvalidation_0-logloss:0.05899\tvalidation_1-error:0.03750\tvalidation_1-logloss:0.09917\n",
      "[27]\tvalidation_0-error:0.00000\tvalidation_0-logloss:0.05398\tvalidation_1-error:0.03750\tvalidation_1-logloss:0.09198\n",
      "[28]\tvalidation_0-error:0.00000\tvalidation_0-logloss:0.04947\tvalidation_1-error:0.02500\tvalidation_1-logloss:0.08538\n",
      "[29]\tvalidation_0-error:0.00000\tvalidation_0-logloss:0.04540\tvalidation_1-error:0.02500\tvalidation_1-logloss:0.07931\n",
      "[30]\tvalidation_0-error:0.00000\tvalidation_0-logloss:0.04172\tvalidation_1-error:0.02500\tvalidation_1-logloss:0.07373\n",
      "[31]\tvalidation_0-error:0.00000\tvalidation_0-logloss:0.03840\tvalidation_1-error:0.02500\tvalidation_1-logloss:0.06860\n",
      "[32]\tvalidation_0-error:0.00000\tvalidation_0-logloss:0.03539\tvalidation_1-error:0.02500\tvalidation_1-logloss:0.06388\n",
      "[33]\tvalidation_0-error:0.00000\tvalidation_0-logloss:0.03266\tvalidation_1-error:0.02500\tvalidation_1-logloss:0.05954\n",
      "[34]\tvalidation_0-error:0.00000\tvalidation_0-logloss:0.03020\tvalidation_1-error:0.01250\tvalidation_1-logloss:0.05554\n",
      "[35]\tvalidation_0-error:0.00000\tvalidation_0-logloss:0.02796\tvalidation_1-error:0.01250\tvalidation_1-logloss:0.05185\n",
      "[36]\tvalidation_0-error:0.00000\tvalidation_0-logloss:0.02703\tvalidation_1-error:0.01250\tvalidation_1-logloss:0.05101\n",
      "[37]\tvalidation_0-error:0.00000\tvalidation_0-logloss:0.02508\tvalidation_1-error:0.01250\tvalidation_1-logloss:0.04770\n",
      "[38]\tvalidation_0-error:0.00000\tvalidation_0-logloss:0.02330\tvalidation_1-error:0.01250\tvalidation_1-logloss:0.04465\n",
      "[39]\tvalidation_0-error:0.00000\tvalidation_0-logloss:0.02169\tvalidation_1-error:0.01250\tvalidation_1-logloss:0.04183\n",
      "[40]\tvalidation_0-error:0.00000\tvalidation_0-logloss:0.02022\tvalidation_1-error:0.01250\tvalidation_1-logloss:0.03923\n",
      "[41]\tvalidation_0-error:0.00000\tvalidation_0-logloss:0.01887\tvalidation_1-error:0.01250\tvalidation_1-logloss:0.03682\n",
      "[42]\tvalidation_0-error:0.00000\tvalidation_0-logloss:0.01765\tvalidation_1-error:0.01250\tvalidation_1-logloss:0.03461\n",
      "[43]\tvalidation_0-error:0.00000\tvalidation_0-logloss:0.01653\tvalidation_1-error:0.00000\tvalidation_1-logloss:0.03256\n",
      "[44]\tvalidation_0-error:0.00000\tvalidation_0-logloss:0.01550\tvalidation_1-error:0.00000\tvalidation_1-logloss:0.03066\n",
      "[45]\tvalidation_0-error:0.00000\tvalidation_0-logloss:0.01456\tvalidation_1-error:0.00000\tvalidation_1-logloss:0.02891\n",
      "[46]\tvalidation_0-error:0.00000\tvalidation_0-logloss:0.01425\tvalidation_1-error:0.00000\tvalidation_1-logloss:0.02845\n",
      "[47]\tvalidation_0-error:0.00000\tvalidation_0-logloss:0.01341\tvalidation_1-error:0.00000\tvalidation_1-logloss:0.02687\n",
      "[48]\tvalidation_0-error:0.00000\tvalidation_0-logloss:0.01265\tvalidation_1-error:0.00000\tvalidation_1-logloss:0.02540\n",
      "[49]\tvalidation_0-error:0.00000\tvalidation_0-logloss:0.01194\tvalidation_1-error:0.00000\tvalidation_1-logloss:0.02404\n",
      "[50]\tvalidation_0-error:0.00000\tvalidation_0-logloss:0.01129\tvalidation_1-error:0.00000\tvalidation_1-logloss:0.02277\n",
      "[51]\tvalidation_0-error:0.00000\tvalidation_0-logloss:0.01110\tvalidation_1-error:0.00000\tvalidation_1-logloss:0.02283\n",
      "[52]\tvalidation_0-error:0.00000\tvalidation_0-logloss:0.01056\tvalidation_1-error:0.00000\tvalidation_1-logloss:0.02170\n",
      "[53]\tvalidation_0-error:0.00000\tvalidation_0-logloss:0.01040\tvalidation_1-error:0.00000\tvalidation_1-logloss:0.02160\n",
      "[54]\tvalidation_0-error:0.00000\tvalidation_0-logloss:0.01024\tvalidation_1-error:0.00000\tvalidation_1-logloss:0.02182\n",
      "[55]\tvalidation_0-error:0.00000\tvalidation_0-logloss:0.01010\tvalidation_1-error:0.00000\tvalidation_1-logloss:0.02167\n",
      "[56]\tvalidation_0-error:0.00000\tvalidation_0-logloss:0.00996\tvalidation_1-error:0.00000\tvalidation_1-logloss:0.02157\n",
      "[57]\tvalidation_0-error:0.00000\tvalidation_0-logloss:0.00983\tvalidation_1-error:0.00000\tvalidation_1-logloss:0.02144\n",
      "[58]\tvalidation_0-error:0.00000\tvalidation_0-logloss:0.00970\tvalidation_1-error:0.00000\tvalidation_1-logloss:0.02130\n",
      "[59]\tvalidation_0-error:0.00000\tvalidation_0-logloss:0.00958\tvalidation_1-error:0.00000\tvalidation_1-logloss:0.02152\n",
      "[60]\tvalidation_0-error:0.00000\tvalidation_0-logloss:0.00946\tvalidation_1-error:0.00000\tvalidation_1-logloss:0.02143\n",
      "[61]\tvalidation_0-error:0.00000\tvalidation_0-logloss:0.00935\tvalidation_1-error:0.00000\tvalidation_1-logloss:0.02131\n",
      "[62]\tvalidation_0-error:0.00000\tvalidation_0-logloss:0.00924\tvalidation_1-error:0.00000\tvalidation_1-logloss:0.02152\n",
      "[63]\tvalidation_0-error:0.00000\tvalidation_0-logloss:0.00914\tvalidation_1-error:0.00000\tvalidation_1-logloss:0.02141\n",
      "[64]\tvalidation_0-error:0.00000\tvalidation_0-logloss:0.00904\tvalidation_1-error:0.00000\tvalidation_1-logloss:0.02132\n",
      "[65]\tvalidation_0-error:0.00000\tvalidation_0-logloss:0.00895\tvalidation_1-error:0.00000\tvalidation_1-logloss:0.02121\n",
      "[66]\tvalidation_0-error:0.00000\tvalidation_0-logloss:0.00886\tvalidation_1-error:0.00000\tvalidation_1-logloss:0.02142\n",
      "[67]\tvalidation_0-error:0.00000\tvalidation_0-logloss:0.00877\tvalidation_1-error:0.00000\tvalidation_1-logloss:0.02132\n",
      "[68]\tvalidation_0-error:0.00000\tvalidation_0-logloss:0.00869\tvalidation_1-error:0.00000\tvalidation_1-logloss:0.02123\n",
      "[69]\tvalidation_0-error:0.00000\tvalidation_0-logloss:0.00861\tvalidation_1-error:0.00000\tvalidation_1-logloss:0.02113\n",
      "[70]\tvalidation_0-error:0.00000\tvalidation_0-logloss:0.00853\tvalidation_1-error:0.00000\tvalidation_1-logloss:0.02133\n",
      "[71]\tvalidation_0-error:0.00000\tvalidation_0-logloss:0.00846\tvalidation_1-error:0.00000\tvalidation_1-logloss:0.02126\n",
      "[72]\tvalidation_0-error:0.00000\tvalidation_0-logloss:0.00839\tvalidation_1-error:0.00000\tvalidation_1-logloss:0.02116\n",
      "[73]\tvalidation_0-error:0.00000\tvalidation_0-logloss:0.00832\tvalidation_1-error:0.00000\tvalidation_1-logloss:0.02107\n",
      "[74]\tvalidation_0-error:0.00000\tvalidation_0-logloss:0.00825\tvalidation_1-error:0.00000\tvalidation_1-logloss:0.02126\n",
      "[75]\tvalidation_0-error:0.00000\tvalidation_0-logloss:0.00819\tvalidation_1-error:0.00000\tvalidation_1-logloss:0.02118\n",
      "[76]\tvalidation_0-error:0.00000\tvalidation_0-logloss:0.00812\tvalidation_1-error:0.00000\tvalidation_1-logloss:0.02110\n",
      "[77]\tvalidation_0-error:0.00000\tvalidation_0-logloss:0.00806\tvalidation_1-error:0.00000\tvalidation_1-logloss:0.02102\n",
      "[78]\tvalidation_0-error:0.00000\tvalidation_0-logloss:0.00801\tvalidation_1-error:0.00000\tvalidation_1-logloss:0.02120\n",
      "[79]\tvalidation_0-error:0.00000\tvalidation_0-logloss:0.00795\tvalidation_1-error:0.00000\tvalidation_1-logloss:0.02112\n",
      "[80]\tvalidation_0-error:0.00000\tvalidation_0-logloss:0.00789\tvalidation_1-error:0.00000\tvalidation_1-logloss:0.02105\n",
      "[81]\tvalidation_0-error:0.00000\tvalidation_0-logloss:0.00784\tvalidation_1-error:0.00000\tvalidation_1-logloss:0.02123\n",
      "[82]\tvalidation_0-error:0.00000\tvalidation_0-logloss:0.00779\tvalidation_1-error:0.00000\tvalidation_1-logloss:0.02115\n",
      "[83]\tvalidation_0-error:0.00000\tvalidation_0-logloss:0.00774\tvalidation_1-error:0.00000\tvalidation_1-logloss:0.02108\n",
      "[84]\tvalidation_0-error:0.00000\tvalidation_0-logloss:0.00769\tvalidation_1-error:0.00000\tvalidation_1-logloss:0.02101\n",
      "[85]\tvalidation_0-error:0.00000\tvalidation_0-logloss:0.00765\tvalidation_1-error:0.00000\tvalidation_1-logloss:0.02095\n",
      "[86]\tvalidation_0-error:0.00000\tvalidation_0-logloss:0.00760\tvalidation_1-error:0.00000\tvalidation_1-logloss:0.02088\n",
      "[87]\tvalidation_0-error:0.00000\tvalidation_0-logloss:0.00756\tvalidation_1-error:0.00000\tvalidation_1-logloss:0.02082\n",
      "[88]\tvalidation_0-error:0.00000\tvalidation_0-logloss:0.00752\tvalidation_1-error:0.00000\tvalidation_1-logloss:0.02076\n",
      "[89]\tvalidation_0-error:0.00000\tvalidation_0-logloss:0.00749\tvalidation_1-error:0.00000\tvalidation_1-logloss:0.02070\n",
      "[90]\tvalidation_0-error:0.00000\tvalidation_0-logloss:0.00745\tvalidation_1-error:0.00000\tvalidation_1-logloss:0.02087\n",
      "[91]\tvalidation_0-error:0.00000\tvalidation_0-logloss:0.00741\tvalidation_1-error:0.00000\tvalidation_1-logloss:0.02081\n",
      "[92]\tvalidation_0-error:0.00000\tvalidation_0-logloss:0.00738\tvalidation_1-error:0.00000\tvalidation_1-logloss:0.02096\n",
      "[93]\tvalidation_0-error:0.00000\tvalidation_0-logloss:0.00734\tvalidation_1-error:0.00000\tvalidation_1-logloss:0.02090\n",
      "[94]\tvalidation_0-error:0.00000\tvalidation_0-logloss:0.00732\tvalidation_1-error:0.00000\tvalidation_1-logloss:0.02085\n",
      "[95]\tvalidation_0-error:0.00000\tvalidation_0-logloss:0.00729\tvalidation_1-error:0.00000\tvalidation_1-logloss:0.02063\n",
      "[96]\tvalidation_0-error:0.00000\tvalidation_0-logloss:0.00726\tvalidation_1-error:0.00000\tvalidation_1-logloss:0.02059\n",
      "[97]\tvalidation_0-error:0.00000\tvalidation_0-logloss:0.00723\tvalidation_1-error:0.00000\tvalidation_1-logloss:0.02038\n",
      "[98]\tvalidation_0-error:0.00000\tvalidation_0-logloss:0.00721\tvalidation_1-error:0.00000\tvalidation_1-logloss:0.02033\n",
      "[99]\tvalidation_0-error:0.00000\tvalidation_0-logloss:0.00718\tvalidation_1-error:0.00000\tvalidation_1-logloss:0.02048\n",
      "[100]\tvalidation_0-error:0.00000\tvalidation_0-logloss:0.00716\tvalidation_1-error:0.00000\tvalidation_1-logloss:0.02045\n",
      "[101]\tvalidation_0-error:0.00000\tvalidation_0-logloss:0.00714\tvalidation_1-error:0.00000\tvalidation_1-logloss:0.02026\n",
      "[102]\tvalidation_0-error:0.00000\tvalidation_0-logloss:0.00711\tvalidation_1-error:0.00000\tvalidation_1-logloss:0.02021\n",
      "[103]\tvalidation_0-error:0.00000\tvalidation_0-logloss:0.00709\tvalidation_1-error:0.00000\tvalidation_1-logloss:0.02018\n",
      "[104]\tvalidation_0-error:0.00000\tvalidation_0-logloss:0.00707\tvalidation_1-error:0.00000\tvalidation_1-logloss:0.02032\n",
      "[105]\tvalidation_0-error:0.00000\tvalidation_0-logloss:0.00705\tvalidation_1-error:0.00000\tvalidation_1-logloss:0.02028\n",
      "[106]\tvalidation_0-error:0.00000\tvalidation_0-logloss:0.00703\tvalidation_1-error:0.00000\tvalidation_1-logloss:0.02025\n",
      "[107]\tvalidation_0-error:0.00000\tvalidation_0-logloss:0.00701\tvalidation_1-error:0.00000\tvalidation_1-logloss:0.02008\n",
      "[108]\tvalidation_0-error:0.00000\tvalidation_0-logloss:0.00700\tvalidation_1-error:0.00000\tvalidation_1-logloss:0.02004\n",
      "[109]\tvalidation_0-error:0.00000\tvalidation_0-logloss:0.00698\tvalidation_1-error:0.00000\tvalidation_1-logloss:0.02005\n",
      "[110]\tvalidation_0-error:0.00000\tvalidation_0-logloss:0.00696\tvalidation_1-error:0.00000\tvalidation_1-logloss:0.02007\n",
      "[111]\tvalidation_0-error:0.00000\tvalidation_0-logloss:0.00695\tvalidation_1-error:0.00000\tvalidation_1-logloss:0.02020\n",
      "[112]\tvalidation_0-error:0.00000\tvalidation_0-logloss:0.00693\tvalidation_1-error:0.00000\tvalidation_1-logloss:0.02018\n",
      "[113]\tvalidation_0-error:0.00000\tvalidation_0-logloss:0.00691\tvalidation_1-error:0.00000\tvalidation_1-logloss:0.02014\n",
      "[114]\tvalidation_0-error:0.00000\tvalidation_0-logloss:0.00690\tvalidation_1-error:0.00000\tvalidation_1-logloss:0.02016\n",
      "[115]\tvalidation_0-error:0.00000\tvalidation_0-logloss:0.00688\tvalidation_1-error:0.00000\tvalidation_1-logloss:0.02012\n",
      "[116]\tvalidation_0-error:0.00000\tvalidation_0-logloss:0.00687\tvalidation_1-error:0.00000\tvalidation_1-logloss:0.02025\n",
      "[117]\tvalidation_0-error:0.00000\tvalidation_0-logloss:0.00685\tvalidation_1-error:0.00000\tvalidation_1-logloss:0.02023\n"
     ]
    },
    {
     "data": {
      "text/plain": [
       "XGBClassifier(base_score=0.5, booster='gbtree', colsample_bylevel=1,\n",
       "              colsample_bynode=1, colsample_bytree=1, gamma=0, gpu_id=-1,\n",
       "              importance_type='gain', interaction_constraints='',\n",
       "              learning_rate=0.1, max_delta_step=0, max_depth=6,\n",
       "              min_child_weight=1, missing=nan, monotone_constraints='()',\n",
       "              n_estimators=300, n_jobs=4, num_parallel_tree=1, random_state=0,\n",
       "              reg_alpha=0, reg_lambda=1, scale_pos_weight=1, subsample=1,\n",
       "              tree_method='exact', validate_parameters=1, verbosity=None)"
      ]
     },
     "execution_count": 13,
     "metadata": {},
     "output_type": "execute_result"
    }
   ],
   "source": [
    "## Training model using training data set\n",
    "model.fit(X_train, y_train, eval_metric=['error','logloss'], early_stopping_rounds=10,\n",
    "          eval_set=[(X_train, y_train), (X_test, y_test)], verbose=True)"
   ]
  },
  {
   "cell_type": "code",
   "execution_count": 14,
   "id": "a038727c-4f97-4653-a1e1-a526fbcac2ac",
   "metadata": {},
   "outputs": [
    {
     "data": {
      "image/png": "[encoded data removed]",
      "text/plain": [
       "<Figure size 432x288 with 1 Axes>"
      ]
     },
     "metadata": {
      "needs_background": "light"
     },
     "output_type": "display_data"
    }
   ],
   "source": [
    "# print('Model Feature Importance', model.feature_importances_)\n",
    "plt.bar(range(len(model.feature_importances_)),model.feature_importances_)\n",
    "plt.xlabel('Sensors')\n",
    "plt.ylabel('Importance')\n",
    "plt.show()\n",
    "plt.close()"
   ]
  },
  {
   "cell_type": "code",
   "execution_count": 15,
   "id": "68cbda78-affe-4d44-b0b8-90e250b35994",
   "metadata": {},
   "outputs": [
    {
     "data": {
      "image/png": "[encoded data removed]",
      "text/plain": [
       "<Figure size 432x288 with 1 Axes>"
      ]
     },
     "metadata": {
      "needs_background": "light"
     },
     "output_type": "display_data"
    }
   ],
   "source": [
    "## Visualizing the importance of each feature/sensor in the data set with their F-score.\n",
    "plot_importance(model,importance_type='gain')\n",
    "plt.show()\n",
    "plt.close()"
   ]
  },
  {
   "cell_type": "code",
   "execution_count": 16,
   "id": "9db563fe-c5a7-4dd2-948f-e71e9adac058",
   "metadata": {},
   "outputs": [
    {
     "name": "stdout",
     "output_type": "stream",
     "text": [
      "For sensor8 Predictive Score is 0.6390084028244019\n",
      "For sensor6 Predictive Score is 0.1422100067138672\n",
      "For sensor4 Predictive Score is 0.0751224085688591\n",
      "For sensor7 Predictive Score is 0.0652070865035057\n",
      "For sensor0 Predictive Score is 0.03296583145856857\n",
      "For sensor2 Predictive Score is 0.03141513839364052\n",
      "For sensor1 Predictive Score is 0.007934421300888062\n",
      "For sensor3 Predictive Score is 0.004801942501217127\n",
      "For sensor9 Predictive Score is 0.0013347704662010074\n",
      "For sensor5 Predictive Score is 0.0\n"
     ]
    }
   ],
   "source": [
    "## Ranking of sensors based on their importance value in a reverse order\n",
    "rank_sensors = sorted(zip(model.feature_importances_, X.columns), reverse=True)\n",
    "for label in rank_sensors:\n",
    "    print('For {} Predictive Score is {}'.format(label[1], label[0]))"
   ]
  },
  {
   "cell_type": "code",
   "execution_count": 17,
   "id": "1b07c4fa-b911-4af3-a275-32cb22f84104",
   "metadata": {},
   "outputs": [],
   "source": [
    "## Seperating features and their importance values\n",
    "scores = list(zip(*rank_sensors))[0]\n",
    "sensors = list(zip(*rank_sensors))[1]\n",
    "sensors_list = np.arange(len(sensors))"
   ]
  },
  {
   "cell_type": "code",
   "execution_count": 18,
   "id": "1fdf4115-6515-49cf-8028-f76607b50af3",
   "metadata": {},
   "outputs": [],
   "source": [
    "## Save ranked list of sensors and their importance values in a csv file\n",
    "ranked_sensors = './ranked_sensors.csv'\n",
    "header = ['Sensor', 'Importance value']\n",
    "with open(ranked_sensors,'w') as output:\n",
    "    ## create the csv writer\n",
    "    write = csv.writer(output)\n",
    "    ## write the header\n",
    "    write.writerow(header)\n",
    "    # write the row to csv file\n",
    "    write.writerows(zip(sensors, scores))\n",
    "output.close()"
   ]
  },
  {
   "cell_type": "code",
   "execution_count": 19,
   "id": "b20c152b-701d-42c0-8704-80c5706dcc36",
   "metadata": {},
   "outputs": [],
   "source": [
    "## Defining a function to plot the features vs importance score\n",
    "## https://seaborn.pydata.org/generated/seaborn.barplot.html\n",
    "def plot_features(features_list, importance_list, model_name, palette=None):\n",
    "    sns.set()\n",
    "    sns.set_style(\"whitegrid\")\n",
    "    plt.figure(figsize=(8, 4))\n",
    "    sns.barplot(features_list, np.array(importance_list), palette=palette)\n",
    "    plt.xticks(sensors_list, sensors)\n",
    "    plt.ylabel('Importance Score')\n",
    "    plt.title(model_name)\n",
    "    plt.show()\n",
    "    plt.close()"
   ]
  },
  {
   "cell_type": "code",
   "execution_count": 20,
   "id": "d80b594f-a5da-40ed-8888-66868f548fd5",
   "metadata": {},
   "outputs": [
    {
     "data": {
      "image/png": "[encoded data removed]",
      "text/plain": [
       "<Figure size 576x288 with 1 Axes>"
      ]
     },
     "metadata": {},
     "output_type": "display_data"
    }
   ],
   "source": [
    "## Plot features with respect to their importance value\n",
    "plot_features(sensors_list, scores, 'XGBoost Classifier', palette='flare')"
   ]
  },
  {
   "cell_type": "code",
   "execution_count": 21,
   "id": "fd63dff6-7413-41b2-ac00-df7a3143923c",
   "metadata": {},
   "outputs": [],
   "source": [
    "## Evaluate the predicitions\n",
    "predictions = model.predict(X_test)"
   ]
  },
  {
   "cell_type": "code",
   "execution_count": 22,
   "id": "fc555513-1cc0-4d43-b420-c9316eb049d3",
   "metadata": {},
   "outputs": [
    {
     "name": "stdout",
     "output_type": "stream",
     "text": [
      "Mean Absolute Error : 0.0\n"
     ]
    }
   ],
   "source": [
    "## Mean Absolute error\n",
    "## https://scikit-learn.org/stable/modules/model_evaluation.html\n",
    "print(\"Mean Absolute Error : \" + str(mean_absolute_error(predictions, y_test)))"
   ]
  },
  {
   "cell_type": "code",
   "execution_count": 23,
   "id": "c1465b36-f6bb-4ff3-9533-0469460304f2",
   "metadata": {},
   "outputs": [
    {
     "name": "stdout",
     "output_type": "stream",
     "text": [
      "Accuracy of Model is : 100.00%\n"
     ]
    }
   ],
   "source": [
    "## Model Accuracy i.e how correct is the classifier?\n",
    "accuracy = accuracy_score(y_test, predictions)\n",
    "print('Accuracy of Model is : %.2f%%'%(accuracy*100.0))"
   ]
  },
  {
   "cell_type": "markdown",
   "id": "3fe29913-27e9-4479-bfc8-c3360d2f6778",
   "metadata": {},
   "source": [
    "### Scalabolity with respect to numbers of features\n",
    "### Fitting model using each importance as threshold"
   ]
  },
  {
   "cell_type": "code",
   "execution_count": 24,
   "id": "f7bbd071-ab41-4f73-9658-963c83c60c6a",
   "metadata": {},
   "outputs": [
    {
     "name": "stdout",
     "output_type": "stream",
     "text": [
      "Threshold = 0.00000, n=10, Accuracy : 98.75%\n",
      "Threshold = 0.00133, n=9, Accuracy : 98.75%\n",
      "Threshold = 0.00480, n=8, Accuracy : 98.75%\n",
      "Threshold = 0.00793, n=7, Accuracy : 98.75%\n",
      "Threshold = 0.03142, n=6, Accuracy : 98.75%\n",
      "Threshold = 0.03297, n=5, Accuracy : 98.75%\n",
      "Threshold = 0.06521, n=4, Accuracy : 98.75%\n",
      "Threshold = 0.07512, n=3, Accuracy : 100.00%\n",
      "Threshold = 0.14221, n=2, Accuracy : 100.00%\n",
      "Threshold = 0.63901, n=1, Accuracy : 82.50%\n"
     ]
    }
   ],
   "source": [
    "## https://machinelearningmastery.com/feature-importance-and-feature-selection-with-xgboost-in-python/\n",
    "thresholds = np.sort(model.feature_importances_)\n",
    "for threshold in thresholds:\n",
    "    ## Selecting feature based on threshold value\n",
    "    select_feature = SelectFromModel(model, threshold = threshold, prefit = True)\n",
    "    select_X_train = select_feature.transform(X_train)\n",
    "\n",
    "    ## Train the model for each feature\n",
    "    select_feature_model = XGBClassifier(eval_metric='logloss')\n",
    "    select_feature_model.fit(select_X_train, y_train)\n",
    "\n",
    "    ## Evaluating the model\n",
    "    select_X_test = select_feature.transform(X_test)\n",
    "\n",
    "    ## Evaluating the predicition\n",
    "    feature_predicition = select_feature_model.predict(select_X_test)\n",
    "    feature_predicition = [round(value) for value in feature_predicition]\n",
    "\n",
    "    ## Evaluating the Accuracy\n",
    "    feature_accuracy = accuracy_score(y_test, feature_predicition)\n",
    "    print('Threshold = %.5f, n=%d, Accuracy : %.2f%%' % (threshold,select_X_train.shape[1],feature_accuracy*100.0))"
   ]
  },
  {
   "cell_type": "markdown",
   "id": "74ea7c5c-bda7-41e7-9f40-d0ea98f5a111",
   "metadata": {},
   "source": [
    "## Let's Discuss Other Models which can be used for the same studies"
   ]
  },
  {
   "cell_type": "markdown",
   "id": "bc8a3d74-0faa-4dad-a61a-b6228450d96c",
   "metadata": {},
   "source": [
    "## Second Model: Random Forest"
   ]
  },
  {
   "cell_type": "code",
   "execution_count": 25,
   "id": "1ef1613a-ad44-4225-85cc-dbb6fdeb899d",
   "metadata": {},
   "outputs": [
    {
     "data": {
      "text/plain": [
       "RandomForestClassifier()"
      ]
     },
     "execution_count": 25,
     "metadata": {},
     "output_type": "execute_result"
    }
   ],
   "source": [
    "## https://scikit-learn.org/stable/modules/generated/sklearn.ensemble.RandomForestClassifier.html\n",
    "random_forest = RandomForestClassifier()\n",
    "random_forest.fit(X_train, y_train)"
   ]
  },
  {
   "cell_type": "code",
   "execution_count": 26,
   "id": "24ceeafa-aa6d-4d4f-b5d7-8633ba59b219",
   "metadata": {},
   "outputs": [],
   "source": [
    "## Evaluate the predicitions\n",
    "rf_predictions = random_forest.predict(X_test)"
   ]
  },
  {
   "cell_type": "code",
   "execution_count": 27,
   "id": "441a097c-68fd-45c4-8234-c97e847b2b52",
   "metadata": {},
   "outputs": [
    {
     "name": "stdout",
     "output_type": "stream",
     "text": [
      "Mean Absolute Error : 0.025\n"
     ]
    }
   ],
   "source": [
    "## Mean Absolute error\n",
    "print(\"Mean Absolute Error : \" + str(mean_absolute_error(rf_predictions, y_test)))"
   ]
  },
  {
   "cell_type": "code",
   "execution_count": 28,
   "id": "626457d7-5fb4-48f8-9b93-cc1a18e9c1b3",
   "metadata": {},
   "outputs": [
    {
     "name": "stdout",
     "output_type": "stream",
     "text": [
      "Accuracy of Random Forest Model is : 98.75%\n"
     ]
    }
   ],
   "source": [
    "## Model Accuracy i.e how correct is the classifier?\n",
    "rf_accuracy = accuracy_score(y_test, rf_predictions)\n",
    "print('Accuracy of Random Forest Model is : %.2f%%'%(rf_accuracy*100.0))"
   ]
  },
  {
   "cell_type": "code",
   "execution_count": 29,
   "id": "aac03054-bf81-4bcd-b550-39cd7c93e712",
   "metadata": {},
   "outputs": [
    {
     "name": "stdout",
     "output_type": "stream",
     "text": [
      "For RandomForest sensor8 Predictive Score is 0.33532475785277066\n",
      "For RandomForest sensor6 Predictive Score is 0.1897512311093335\n",
      "For RandomForest sensor4 Predictive Score is 0.1528592312391694\n",
      "For RandomForest sensor0 Predictive Score is 0.12274676633352821\n",
      "For RandomForest sensor2 Predictive Score is 0.05149069321463027\n",
      "For RandomForest sensor3 Predictive Score is 0.0487155039099691\n",
      "For RandomForest sensor1 Predictive Score is 0.03855544047014551\n",
      "For RandomForest sensor9 Predictive Score is 0.022698993370339766\n",
      "For RandomForest sensor7 Predictive Score is 0.020028362315341015\n",
      "For RandomForest sensor5 Predictive Score is 0.017829020184772535\n"
     ]
    }
   ],
   "source": [
    "## Extract Feature Importance Value and Rank them in a reverse order\n",
    "rank_rf = sorted(zip(random_forest.feature_importances_, X.columns), reverse=True)\n",
    "for label in rank_rf:\n",
    "    print('For RandomForest {} Predictive Score is {}'.format(label[1], label[0]))"
   ]
  },
  {
   "cell_type": "code",
   "execution_count": 30,
   "id": "68ed25ed-27a2-4256-aace-d5a13b4f3de2",
   "metadata": {},
   "outputs": [],
   "source": [
    "## Seperating features and their importance values\n",
    "scores_rf = list(zip(*rank_rf))[0]\n",
    "sensors_rf = list(zip(*rank_rf))[1]\n",
    "sensors_rf_list = np.arange(len(sensors_rf))"
   ]
  },
  {
   "cell_type": "code",
   "execution_count": 31,
   "id": "ed21f27c-4b0c-42e7-9499-c88d470fa359",
   "metadata": {},
   "outputs": [
    {
     "data": {
      "image/png": "[encoded data removed]",
      "text/plain": [
       "<Figure size 576x288 with 1 Axes>"
      ]
     },
     "metadata": {},
     "output_type": "display_data"
    }
   ],
   "source": [
    "## Plot features with respect to their importance value\n",
    "plot_features(sensors_rf_list, scores_rf, 'RandomForest Classifier', palette='crest')"
   ]
  },
  {
   "cell_type": "code",
   "execution_count": 32,
   "id": "a952b485-223a-4f87-b92b-65954fd33510",
   "metadata": {},
   "outputs": [
    {
     "name": "stdout",
     "output_type": "stream",
     "text": [
      "Threshold = 0.01783, n=10, Accuracy : 97.50%\n",
      "Threshold = 0.02003, n=9, Accuracy : 98.75%\n",
      "Threshold = 0.02270, n=8, Accuracy : 98.75%\n",
      "Threshold = 0.03856, n=7, Accuracy : 98.75%\n",
      "Threshold = 0.04872, n=6, Accuracy : 98.75%\n",
      "Threshold = 0.05149, n=5, Accuracy : 100.00%\n",
      "Threshold = 0.12275, n=4, Accuracy : 97.50%\n",
      "Threshold = 0.15286, n=3, Accuracy : 98.75%\n",
      "Threshold = 0.18975, n=2, Accuracy : 100.00%\n",
      "Threshold = 0.33532, n=1, Accuracy : 75.00%\n"
     ]
    }
   ],
   "source": [
    "## https://machinelearningmastery.com/feature-importance-and-feature-selection-with-xgboost-in-python/\n",
    "thresholds = np.sort(random_forest.feature_importances_)\n",
    "for threshold in thresholds:\n",
    "    ## Selecting feature based on threshold value\n",
    "    select_feature = SelectFromModel(random_forest, threshold = threshold, prefit = True)\n",
    "    select_X_train = select_feature.transform(X_train)\n",
    "\n",
    "    ## Train the model for each feature\n",
    "    select_feature_model = RandomForestClassifier()\n",
    "    select_feature_model.fit(select_X_train, y_train)\n",
    "\n",
    "    ## Evaluating the model\n",
    "    select_X_test = select_feature.transform(X_test)\n",
    "\n",
    "    ## Evaluating the predicition\n",
    "    feature_predicition = select_feature_model.predict(select_X_test)\n",
    "    feature_predicition = [round(value) for value in feature_predicition]\n",
    "\n",
    "    ## Evaluating the Accuracy\n",
    "    feature_accuracy = accuracy_score(y_test, feature_predicition)\n",
    "    print('Threshold = %.5f, n=%d, Accuracy : %.2f%%' % (threshold,select_X_train.shape[1],feature_accuracy*100.0))"
   ]
  },
  {
   "cell_type": "markdown",
   "id": "efd482bd-b248-4f3d-a869-6d3562f790f0",
   "metadata": {},
   "source": [
    "## Third Model :  AdaBoost"
   ]
  },
  {
   "cell_type": "code",
   "execution_count": 33,
   "id": "acd39eba-8562-4b0a-92ae-602680d06373",
   "metadata": {},
   "outputs": [
    {
     "data": {
      "text/plain": [
       "AdaBoostClassifier()"
      ]
     },
     "execution_count": 33,
     "metadata": {},
     "output_type": "execute_result"
    }
   ],
   "source": [
    "## https://scikit-learn.org/stable/modules/generated/sklearn.ensemble.AdaBoostClassifier.html\n",
    "adaboost = AdaBoostClassifier()\n",
    "adaboost.fit(X_train,y_train)"
   ]
  },
  {
   "cell_type": "code",
   "execution_count": 34,
   "id": "199a97b8-a2ef-4b27-9268-2c30751ce371",
   "metadata": {},
   "outputs": [],
   "source": [
    "## Estimating the performace of AdaBooster Clasifier\n",
    "ada_prediction = adaboost.predict(X_test)"
   ]
  },
  {
   "cell_type": "code",
   "execution_count": 35,
   "id": "aaf4db38-843b-48b4-b042-f7e79f5824f0",
   "metadata": {},
   "outputs": [
    {
     "name": "stdout",
     "output_type": "stream",
     "text": [
      "Mean Absolute Error : 0.0\n"
     ]
    }
   ],
   "source": [
    "## Mean Absolute error\n",
    "print(\"Mean Absolute Error : \" + str(mean_absolute_error(ada_prediction, y_test)))"
   ]
  },
  {
   "cell_type": "code",
   "execution_count": 36,
   "id": "818aa94a-fa53-4ad3-843c-4e8aee60ddb8",
   "metadata": {},
   "outputs": [
    {
     "name": "stdout",
     "output_type": "stream",
     "text": [
      "Accuracy of AdaBoost Model is : 100.00%\n"
     ]
    }
   ],
   "source": [
    "## Model Accuracy i.e how correct is the classifier?\n",
    "ada_accuracy = accuracy_score(y_test, ada_prediction)\n",
    "print('Accuracy of AdaBoost Model is : %.2f%%' % (ada_accuracy*100.0))"
   ]
  },
  {
   "cell_type": "code",
   "execution_count": 37,
   "id": "e53501e6-7cb9-47ee-9b96-527a91eeb139",
   "metadata": {},
   "outputs": [
    {
     "name": "stdout",
     "output_type": "stream",
     "text": [
      "For AdaBoost sensor6 Predictive Score is 0.94\n",
      "For AdaBoost sensor8 Predictive Score is 0.02\n",
      "For AdaBoost sensor4 Predictive Score is 0.02\n",
      "For AdaBoost sensor0 Predictive Score is 0.02\n",
      "For AdaBoost sensor9 Predictive Score is 0.0\n",
      "For AdaBoost sensor7 Predictive Score is 0.0\n",
      "For AdaBoost sensor5 Predictive Score is 0.0\n",
      "For AdaBoost sensor3 Predictive Score is 0.0\n",
      "For AdaBoost sensor2 Predictive Score is 0.0\n",
      "For AdaBoost sensor1 Predictive Score is 0.0\n"
     ]
    }
   ],
   "source": [
    "## Extract Feature Importance Value and Rank them in a reverse order\n",
    "rank_ada = sorted(zip(adaboost.feature_importances_, X.columns), reverse=True)\n",
    "for label in rank_ada:\n",
    "    print('For AdaBoost {} Predictive Score is {}'.format(label[1], label[0]))"
   ]
  },
  {
   "cell_type": "code",
   "execution_count": 38,
   "id": "c1f4527f-3ef9-4640-8ff0-3044700649f3",
   "metadata": {},
   "outputs": [],
   "source": [
    "## Seperating features and their importance values\n",
    "scores_ada = list(zip(*rank_ada))[0]\n",
    "sensors_ada = list(zip(*rank_ada))[1]\n",
    "sensors_ada_list = np.arange(len(sensors_ada))"
   ]
  },
  {
   "cell_type": "code",
   "execution_count": 39,
   "id": "2a542502-88c3-4e3a-bd2a-0408b6842c24",
   "metadata": {},
   "outputs": [
    {
     "data": {
      "image/png": "[encoded data removed]",
      "text/plain": [
       "<Figure size 576x288 with 1 Axes>"
      ]
     },
     "metadata": {},
     "output_type": "display_data"
    }
   ],
   "source": [
    "## Plot features with respect to their importance value\n",
    "plot_features(sensors_ada_list, scores_ada, 'AdaBoost Classifier', palette='dark:salmon_r')"
   ]
  },
  {
   "cell_type": "code",
   "execution_count": 40,
   "id": "9e5ebc39-69c7-4280-82b1-f5f9ee07a7af",
   "metadata": {},
   "outputs": [
    {
     "name": "stdout",
     "output_type": "stream",
     "text": [
      "Threshold = 0.00000, n=10, Accuracy : 100.00%\n",
      "Threshold = 0.00000, n=10, Accuracy : 100.00%\n",
      "Threshold = 0.00000, n=10, Accuracy : 100.00%\n",
      "Threshold = 0.00000, n=10, Accuracy : 100.00%\n",
      "Threshold = 0.00000, n=10, Accuracy : 100.00%\n",
      "Threshold = 0.00000, n=10, Accuracy : 100.00%\n",
      "Threshold = 0.02000, n=4, Accuracy : 100.00%\n",
      "Threshold = 0.02000, n=4, Accuracy : 100.00%\n",
      "Threshold = 0.02000, n=4, Accuracy : 100.00%\n",
      "Threshold = 0.94000, n=1, Accuracy : 100.00%\n"
     ]
    }
   ],
   "source": [
    "## https://machinelearningmastery.com/feature-importance-and-feature-selection-with-xgboost-in-python/\n",
    "thresholds = np.sort(adaboost.feature_importances_)\n",
    "for threshold in thresholds:\n",
    "    ## Selecting feature based on threshold value\n",
    "    select_feature = SelectFromModel(adaboost, threshold = threshold, prefit = True)\n",
    "    select_X_train = select_feature.transform(X_train)\n",
    "\n",
    "    ## Train the model for each feature\n",
    "    select_feature_model = AdaBoostClassifier()\n",
    "    select_feature_model.fit(select_X_train, y_train)\n",
    "\n",
    "    ## Evaluating the model\n",
    "    select_X_test = select_feature.transform(X_test)\n",
    "\n",
    "    ## Evaluating the predictions\n",
    "    feature_prediction = select_feature_model.predict(select_X_test)\n",
    "    feature_prediction = [round(value) for value in feature_prediction]\n",
    "\n",
    "    ## Evaluating the Accuracy\n",
    "    feature_accuracy = accuracy_score(y_test, feature_prediction)\n",
    "    print('Threshold = %.5f, n=%d, Accuracy : %.2f%%' % (threshold,select_X_train.shape[1],feature_accuracy*100.0))"
   ]
  }
 ],
 "metadata": {
  "kernelspec": {
   "display_name": "Python 3",
   "language": "python",
   "name": "python3"
  },
  "language_info": {
   "codemirror_mode": {
    "name": "ipython",
    "version": 3
   },
   "file_extension": ".py",
   "mimetype": "text/x-python",
   "name": "python",
   "nbconvert_exporter": "python",
   "pygments_lexer": "ipython3",
   "version": "3.7.0"
  }
 },
 "nbformat": 4,
 "nbformat_minor": 5
}
